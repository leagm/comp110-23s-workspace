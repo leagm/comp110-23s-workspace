{
 "cells": [
  {
   "attachments": {},
   "cell_type": "markdown",
   "metadata": {},
   "source": [
    "# Demonstrate More Functionality with Data in Jupyter Notebooks"
   ]
  },
  {
   "attachments": {},
   "cell_type": "markdown",
   "metadata": {},
   "source": [
    "## Import some of the old data from last lesson"
   ]
  },
  {
   "cell_type": "code",
   "execution_count": null,
   "metadata": {},
   "outputs": [],
   "source": [
    "from data_utils import read_csv_rows, columnar\n",
    "\n",
    "filename: str = \"../data/weather.csv\"\n",
    "data: list[dict[str, str]] = read_csv_rows(filename)\n",
    "data"
   ]
  },
  {
   "attachments": {},
   "cell_type": "markdown",
   "metadata": {},
   "source": [
    "## Data in Column-Oriented Format"
   ]
  },
  {
   "cell_type": "code",
   "execution_count": null,
   "metadata": {},
   "outputs": [],
   "source": [
    "from data_utils import columnar\n",
    "\n",
    "column_data: dict[str, list[str]] = columnar(data)\n",
    "column_data"
   ]
  },
  {
   "attachments": {},
   "cell_type": "markdown",
   "metadata": {},
   "source": [
    "## Printing Data as Table"
   ]
  },
  {
   "cell_type": "code",
   "execution_count": null,
   "metadata": {},
   "outputs": [],
   "source": [
    "from tabulate import tabulate\n",
    "\n",
    "tabulate(column_data, column_data.keys(), \"html\")"
   ]
  },
  {
   "attachments": {},
   "cell_type": "markdown",
   "metadata": {},
   "source": [
    "## Get table of just Monday and Tuesday Data"
   ]
  },
  {
   "cell_type": "code",
   "execution_count": null,
   "metadata": {},
   "outputs": [],
   "source": [
    "smaller_data_set: dict[str, list[str]] = {}\n",
    "\n",
    "for key in column_data:\n",
    "    #make an entry with \"key\" as the key and first two elements of list as values\n",
    "    sub_list: list[str] = []\n",
    "    data_to_get: list[str] = column_data[key]\n",
    "    idx: int = 0\n",
    "    while idx < 2:\n",
    "        sub_list.append(data_to_get[idx])\n",
    "        idx += 1\n",
    "    smaller_data_set[key] = sub_list\n",
    "tabulate(smaller_data_set, smaller_data_set.keys(), \"html\")"
   ]
  },
  {
   "attachments": {},
   "cell_type": "markdown",
   "metadata": {},
   "source": [
    "## Get just Monday and Tuesday, but with original data"
   ]
  },
  {
   "cell_type": "code",
   "execution_count": null,
   "metadata": {},
   "outputs": [],
   "source": [
    "idx: int = 0\n",
    "smaller_data_set_row_oriented = []\n",
    "while idx < 2:\n",
    "    smaller_data_set_row_oriented.append(data[idx])\n",
    "    idx += 1\n",
    "smaller_data_set_row_oriented\n",
    "\n",
    "smaller_data_set_2 = columnar(smaller_data_set_row_oriented)\n",
    "tabulate(smaller_data_set_2, smaller_data_set_2.keys(), \"html\")"
   ]
  }
 ],
 "metadata": {
  "kernelspec": {
   "display_name": "Python 3",
   "language": "python",
   "name": "python3"
  },
  "language_info": {
   "codemirror_mode": {
    "name": "ipython",
    "version": 3
   },
   "file_extension": ".py",
   "mimetype": "text/x-python",
   "name": "python",
   "nbconvert_exporter": "python",
   "pygments_lexer": "ipython3",
   "version": "3.11.1 (tags/v3.11.1:a7a450f, Dec  6 2022, 19:58:39) [MSC v.1934 64 bit (AMD64)]"
  },
  "orig_nbformat": 4,
  "vscode": {
   "interpreter": {
    "hash": "2cee52168290834a40754291c51c6b67adc17d6a0117a2f4979710f2c422fc61"
   }
  }
 },
 "nbformat": 4,
 "nbformat_minor": 2
}
